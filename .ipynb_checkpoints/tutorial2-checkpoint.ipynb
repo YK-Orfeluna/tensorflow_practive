{
 "cells": [
  {
   "cell_type": "markdown",
   "metadata": {},
   "source": [
    "# tensorflowのチュートリアル2\n",
    "\n",
    "- IMDB: 50000の映画レビュー（テキスト）\n",
    "- 詳細は[コチラ](https://www.tensorflow.org/tutorials/keras/basic_text_classification)"
   ]
  },
  {
   "cell_type": "code",
   "execution_count": 1,
   "metadata": {},
   "outputs": [
    {
     "name": "stdout",
     "output_type": "stream",
     "text": [
      "1.12.0\n"
     ]
    }
   ],
   "source": [
    "import tensorflow as tf\n",
    "from tensorflow import keras\n",
    "\n",
    "import numpy as np\n",
    "\n",
    "print(tf.__version__)"
   ]
  },
  {
   "cell_type": "code",
   "execution_count": 2,
   "metadata": {},
   "outputs": [],
   "source": [
    "# IDMBデータセットをDLする\n",
    "\n",
    "imdb = keras.datasets.imdb\n",
    "\n",
    "# 引数(num_words)でトレーニングデータに頻出する単語の上位保持数\n",
    "# あまり出てこない単語はそぎ落とす\n",
    "(train_data, train_labels), (test_data, test_labels) = imdb.load_data(num_words=10000)"
   ]
  },
  {
   "cell_type": "code",
   "execution_count": 3,
   "metadata": {},
   "outputs": [
    {
     "name": "stdout",
     "output_type": "stream",
     "text": [
      "Training entries: 25000, labels: 25000\n"
     ]
    }
   ],
   "source": [
    "print(\"Training entries: {}, labels: {}\".format(len(train_data), len(train_labels)))"
   ]
  },
  {
   "cell_type": "code",
   "execution_count": 4,
   "metadata": {},
   "outputs": [
    {
     "name": "stdout",
     "output_type": "stream",
     "text": [
      "[1, 14, 22, 16, 43, 530, 973, 1622, 1385, 65, 458, 4468, 66, 3941, 4, 173, 36, 256, 5, 25, 100, 43, 838, 112, 50, 670, 2, 9, 35, 480, 284, 5, 150, 4, 172, 112, 167, 2, 336, 385, 39, 4, 172, 4536, 1111, 17, 546, 38, 13, 447, 4, 192, 50, 16, 6, 147, 2025, 19, 14, 22, 4, 1920, 4613, 469, 4, 22, 71, 87, 12, 16, 43, 530, 38, 76, 15, 13, 1247, 4, 22, 17, 515, 17, 12, 16, 626, 18, 2, 5, 62, 386, 12, 8, 316, 8, 106, 5, 4, 2223, 5244, 16, 480, 66, 3785, 33, 4, 130, 12, 16, 38, 619, 5, 25, 124, 51, 36, 135, 48, 25, 1415, 33, 6, 22, 12, 215, 28, 77, 52, 5, 14, 407, 16, 82, 2, 8, 4, 107, 117, 5952, 15, 256, 4, 2, 7, 3766, 5, 723, 36, 71, 43, 530, 476, 26, 400, 317, 46, 7, 4, 2, 1029, 13, 104, 88, 4, 381, 15, 297, 98, 32, 2071, 56, 26, 141, 6, 194, 7486, 18, 4, 226, 22, 21, 134, 476, 26, 480, 5, 144, 30, 5535, 18, 51, 36, 28, 224, 92, 25, 104, 4, 226, 65, 16, 38, 1334, 88, 12, 16, 283, 5, 16, 4472, 113, 103, 32, 15, 16, 5345, 19, 178, 32]\n"
     ]
    }
   ],
   "source": [
    "# 配列内の数値それぞれが特定の単語を意味する（同じ数値なら同じ単語）\n",
    "print(train_data[0])"
   ]
  },
  {
   "cell_type": "code",
   "execution_count": 5,
   "metadata": {},
   "outputs": [
    {
     "data": {
      "text/plain": [
       "141"
      ]
     },
     "execution_count": 5,
     "metadata": {},
     "output_type": "execute_result"
    }
   ],
   "source": [
    "len(train_data[2])"
   ]
  },
  {
   "cell_type": "code",
   "execution_count": 6,
   "metadata": {},
   "outputs": [
    {
     "name": "stdout",
     "output_type": "stream",
     "text": [
      "218 189\n"
     ]
    }
   ],
   "source": [
    "# レビュー文章はそれぞれ長さが違う→ニューラルネットワークに入れるデータ長は同じである必要がある\n",
    "print(len(train_data[0]), len(train_data[1]))"
   ]
  },
  {
   "cell_type": "code",
   "execution_count": 7,
   "metadata": {},
   "outputs": [
    {
     "name": "stdout",
     "output_type": "stream",
     "text": [
      "[1 0 0 1 0 0 1 0 1 0 1 0 0 0 0 0 1 1 0 1 0 0 1 0 1 1 0 0 1 0 0 1 1 1 0 0 0\n",
      " 1 0 0 1 0 0 0 1 1 1 0 1 0 0 0 0 0 0 0 1 0 1 1 0 0 0 1 1 1 1 1 1 1 1 0 0 1\n",
      " 1 0 1 0 0 1 1 0 0 1 1 0 0 0 1 0 0 0 0 0 0 0 0 1 1 0]\n"
     ]
    }
   ],
   "source": [
    "#ラベルは1/0\n",
    "print(train_labels[:100])"
   ]
  },
  {
   "cell_type": "code",
   "execution_count": 8,
   "metadata": {},
   "outputs": [],
   "source": [
    "# テキストデータに複合してみる\n",
    "\n",
    "# A dictionary mapping words to an integer index\n",
    "word_index = imdb.get_word_index()\n",
    "\n",
    "# The first indices are reserved\n",
    "word_index = {k:(v+3) for k,v in word_index.items()} \n",
    "word_index[\"<PAD>\"] = 0\n",
    "word_index[\"<START>\"] = 1\n",
    "word_index[\"<UNK>\"] = 2  # unknown\n",
    "word_index[\"<UNUSED>\"] = 3\n",
    "\n",
    "reverse_word_index = dict([(value, key) for (key, value) in word_index.items()])\n",
    "\n",
    "def decode_review(text):\n",
    "    return ' '.join([reverse_word_index.get(i, '?') for i in text])"
   ]
  },
  {
   "cell_type": "code",
   "execution_count": 9,
   "metadata": {},
   "outputs": [
    {
     "name": "stdout",
     "output_type": "stream",
     "text": [
      "<START> this film was just brilliant casting location scenery story direction everyone's really suited the part they played and you could just imagine being there robert <UNK> is an amazing actor and now the same being director <UNK> father came from the same scottish island as myself so i loved the fact there was a real connection with this film the witty remarks throughout the film were great it was just brilliant so much that i bought the film as soon as it was released for <UNK> and would recommend it to everyone to watch and the fly fishing was amazing really cried at the end it was so sad and you know what they say if you cry at a film it must have been good and this definitely was also <UNK> to the two little boy's that played the <UNK> of norman and paul they were just brilliant children are often left out of the <UNK> list i think because the stars that play them all grown up are such a big profile for the whole film but these children are amazing and should be praised for what they have done don't you think the whole story was so lovely because it was true and was someone's life after all that was shared with us all\n"
     ]
    }
   ],
   "source": [
    "print(decode_review(train_data[0]))"
   ]
  },
  {
   "cell_type": "code",
   "execution_count": 10,
   "metadata": {},
   "outputs": [],
   "source": [
    "# keras.preprocessing.sequence.pad_sequences(sequences, maxlen, dtype=\"int32\", padding=\"pre\", truncating='pre', value=0.0)\n",
    "# https://keras.io/ja/preprocessing/sequence/\n",
    "# sequences: 加工前のデータ型\n",
    "# maxlen: sequenceの最大数（指定しなければ，sequenceの最大値となる）\n",
    "# dtype: 出力データの型\n",
    "# padding: \"pre\"/\"post\"→sequenceの前後どちらを埋めるのか？\n",
    "# truncating: \"pre\"/\"post\"→maxlenより長いsequenceの前後どちらを切り取るのか？\n",
    "# value: パディングする数値（float）\n",
    "\n",
    "# ここでは，valueにword_index[\"<PAD>\"]，つまり0を，paddingに\"post\"を，maxlenに256を指定しているので，\n",
    "# len()が256未満のものは，足りない分，後ろに0を追加して，1*256の配列としている\n",
    "\n",
    "train_data = keras.preprocessing.sequence.pad_sequences(train_data,\n",
    "                                                        value=word_index[\"<PAD>\"],\n",
    "                                                        padding='post',\n",
    "                                                        maxlen=256)\n",
    "\n",
    "test_data = keras.preprocessing.sequence.pad_sequences(test_data,\n",
    "                                                       value=word_index[\"<PAD>\"],\n",
    "                                                       padding='post',\n",
    "                                                       maxlen=256)"
   ]
  },
  {
   "cell_type": "code",
   "execution_count": 11,
   "metadata": {},
   "outputs": [
    {
     "name": "stdout",
     "output_type": "stream",
     "text": [
      "[   1   14   22   16   43  530  973 1622 1385   65  458 4468   66 3941\n",
      "    4  173   36  256    5   25  100   43  838  112   50  670    2    9\n",
      "   35  480  284    5  150    4  172  112  167    2  336  385   39    4\n",
      "  172 4536 1111   17  546   38   13  447    4  192   50   16    6  147\n",
      " 2025   19   14   22    4 1920 4613  469    4   22   71   87   12   16\n",
      "   43  530   38   76   15   13 1247    4   22   17  515   17   12   16\n",
      "  626   18    2    5   62  386   12    8  316    8  106    5    4 2223\n",
      " 5244   16  480   66 3785   33    4  130   12   16   38  619    5   25\n",
      "  124   51   36  135   48   25 1415   33    6   22   12  215   28   77\n",
      "   52    5   14  407   16   82    2    8    4  107  117 5952   15  256\n",
      "    4    2    7 3766    5  723   36   71   43  530  476   26  400  317\n",
      "   46    7    4    2 1029   13  104   88    4  381   15  297   98   32\n",
      " 2071   56   26  141    6  194 7486   18    4  226   22   21  134  476\n",
      "   26  480    5  144   30 5535   18   51   36   28  224   92   25  104\n",
      "    4  226   65   16   38 1334   88   12   16  283    5   16 4472  113\n",
      "  103   32   15   16 5345   19  178   32    0    0    0    0    0    0\n",
      "    0    0    0    0    0    0    0    0    0    0    0    0    0    0\n",
      "    0    0    0    0    0    0    0    0    0    0    0    0    0    0\n",
      "    0    0    0    0]\n"
     ]
    }
   ],
   "source": [
    "print(train_data[0])"
   ]
  },
  {
   "cell_type": "code",
   "execution_count": 12,
   "metadata": {},
   "outputs": [
    {
     "name": "stdout",
     "output_type": "stream",
     "text": [
      "_________________________________________________________________\n",
      "Layer (type)                 Output Shape              Param #   \n",
      "=================================================================\n",
      "embedding (Embedding)        (None, None, 16)          160000    \n",
      "_________________________________________________________________\n",
      "global_average_pooling1d (Gl (None, 16)                0         \n",
      "_________________________________________________________________\n",
      "dense (Dense)                (None, 16)                272       \n",
      "_________________________________________________________________\n",
      "dense_1 (Dense)              (None, 1)                 17        \n",
      "=================================================================\n",
      "Total params: 160,289\n",
      "Trainable params: 160,289\n",
      "Non-trainable params: 0\n",
      "_________________________________________________________________\n"
     ]
    }
   ],
   "source": [
    "# モデル構築\n",
    "\n",
    "# 第一層: 埋め込み層→整数化された単語を受け取る\n",
    "# 第二層\n",
    "# 第三層\n",
    "# 第四層: 出力層→sigmoid関数の利用で0-1の浮動小数点で確率を返す\n",
    "\n",
    "# input shape is the vocabulary count used for the movie reviews (10,000 words)\n",
    "vocab_size = 10000\n",
    "\n",
    "model = keras.Sequential()\n",
    "model.add(keras.layers.Embedding(vocab_size, 16))\n",
    "model.add(keras.layers.GlobalAveragePooling1D())\n",
    "model.add(keras.layers.Dense(16, activation=tf.nn.relu))\n",
    "model.add(keras.layers.Dense(1, activation=tf.nn.sigmoid))\n",
    "\n",
    "model.summary()"
   ]
  },
  {
   "cell_type": "code",
   "execution_count": 13,
   "metadata": {},
   "outputs": [],
   "source": [
    "model.compile(optimizer=tf.train.AdamOptimizer(),\n",
    "              loss='binary_crossentropy',\n",
    "              metrics=['accuracy'])"
   ]
  },
  {
   "cell_type": "code",
   "execution_count": 14,
   "metadata": {},
   "outputs": [],
   "source": [
    "# 訓練データのみを用いてモデルの評価を行う→テストデータに対して直ちに結果を出すため\n",
    "\n",
    "x_val = train_data[:10000]\n",
    "partial_x_train = train_data[10000:]\n",
    "\n",
    "y_val = train_labels[:10000]\n",
    "partial_y_train = train_labels[10000:]"
   ]
  },
  {
   "cell_type": "code",
   "execution_count": 15,
   "metadata": {},
   "outputs": [
    {
     "name": "stdout",
     "output_type": "stream",
     "text": [
      "Train on 15000 samples, validate on 10000 samples\n",
      "Epoch 1/40\n",
      "15000/15000 [==============================] - 4s 283us/step - loss: 0.6922 - acc: 0.6222 - val_loss: 0.6909 - val_acc: 0.6649\n",
      "Epoch 2/40\n",
      "15000/15000 [==============================] - 1s 38us/step - loss: 0.6881 - acc: 0.7397 - val_loss: 0.6850 - val_acc: 0.7222\n",
      "Epoch 3/40\n",
      "15000/15000 [==============================] - 1s 38us/step - loss: 0.6791 - acc: 0.7609 - val_loss: 0.6731 - val_acc: 0.7444\n",
      "Epoch 4/40\n",
      "15000/15000 [==============================] - 1s 40us/step - loss: 0.6616 - acc: 0.7467 - val_loss: 0.6526 - val_acc: 0.7735\n",
      "Epoch 5/40\n",
      "15000/15000 [==============================] - 1s 39us/step - loss: 0.6339 - acc: 0.7903 - val_loss: 0.6221 - val_acc: 0.7774\n",
      "Epoch 6/40\n",
      "15000/15000 [==============================] - 1s 39us/step - loss: 0.5968 - acc: 0.8065 - val_loss: 0.5849 - val_acc: 0.7895\n",
      "Epoch 7/40\n",
      "15000/15000 [==============================] - 1s 39us/step - loss: 0.5530 - acc: 0.8235 - val_loss: 0.5436 - val_acc: 0.8144\n",
      "Epoch 8/40\n",
      "15000/15000 [==============================] - 1s 38us/step - loss: 0.5069 - acc: 0.8417 - val_loss: 0.5022 - val_acc: 0.8276\n",
      "Epoch 9/40\n",
      "15000/15000 [==============================] - 1s 38us/step - loss: 0.4628 - acc: 0.8545 - val_loss: 0.4643 - val_acc: 0.8394\n",
      "Epoch 10/40\n",
      "15000/15000 [==============================] - 1s 40us/step - loss: 0.4222 - acc: 0.8700 - val_loss: 0.4312 - val_acc: 0.8485\n",
      "Epoch 11/40\n",
      "15000/15000 [==============================] - 1s 39us/step - loss: 0.3873 - acc: 0.8784 - val_loss: 0.4055 - val_acc: 0.8549\n",
      "Epoch 12/40\n",
      "15000/15000 [==============================] - 1s 40us/step - loss: 0.3577 - acc: 0.8856 - val_loss: 0.3809 - val_acc: 0.8616\n",
      "Epoch 13/40\n",
      "15000/15000 [==============================] - 1s 40us/step - loss: 0.3314 - acc: 0.8922 - val_loss: 0.3630 - val_acc: 0.8651\n",
      "Epoch 14/40\n",
      "15000/15000 [==============================] - 1s 40us/step - loss: 0.3096 - acc: 0.8988 - val_loss: 0.3474 - val_acc: 0.8696\n",
      "Epoch 15/40\n",
      "15000/15000 [==============================] - 1s 40us/step - loss: 0.2908 - acc: 0.9028 - val_loss: 0.3351 - val_acc: 0.8732\n",
      "Epoch 16/40\n",
      "15000/15000 [==============================] - 1s 39us/step - loss: 0.2747 - acc: 0.9057 - val_loss: 0.3253 - val_acc: 0.8748\n",
      "Epoch 17/40\n",
      "15000/15000 [==============================] - 1s 40us/step - loss: 0.2595 - acc: 0.9126 - val_loss: 0.3167 - val_acc: 0.8768\n",
      "Epoch 18/40\n",
      "15000/15000 [==============================] - 1s 40us/step - loss: 0.2464 - acc: 0.9168 - val_loss: 0.3097 - val_acc: 0.8805\n",
      "Epoch 19/40\n",
      "15000/15000 [==============================] - 1s 40us/step - loss: 0.2343 - acc: 0.9203 - val_loss: 0.3041 - val_acc: 0.8802\n",
      "Epoch 20/40\n",
      "15000/15000 [==============================] - 1s 40us/step - loss: 0.2237 - acc: 0.9231 - val_loss: 0.2994 - val_acc: 0.8811\n",
      "Epoch 21/40\n",
      "15000/15000 [==============================] - 1s 39us/step - loss: 0.2134 - acc: 0.9275 - val_loss: 0.2952 - val_acc: 0.8811\n",
      "Epoch 22/40\n",
      "15000/15000 [==============================] - 1s 39us/step - loss: 0.2041 - acc: 0.9301 - val_loss: 0.2925 - val_acc: 0.8821\n",
      "Epoch 23/40\n",
      "15000/15000 [==============================] - 1s 40us/step - loss: 0.1955 - acc: 0.9335 - val_loss: 0.2901 - val_acc: 0.8829\n",
      "Epoch 24/40\n",
      "15000/15000 [==============================] - 1s 40us/step - loss: 0.1871 - acc: 0.9382 - val_loss: 0.2875 - val_acc: 0.8854\n",
      "Epoch 25/40\n",
      "15000/15000 [==============================] - 1s 39us/step - loss: 0.1796 - acc: 0.9413 - val_loss: 0.2860 - val_acc: 0.8838\n",
      "Epoch 26/40\n",
      "15000/15000 [==============================] - 1s 39us/step - loss: 0.1723 - acc: 0.9446 - val_loss: 0.2850 - val_acc: 0.8841\n",
      "Epoch 27/40\n",
      "15000/15000 [==============================] - 1s 40us/step - loss: 0.1660 - acc: 0.9475 - val_loss: 0.2848 - val_acc: 0.8846\n",
      "Epoch 28/40\n",
      "15000/15000 [==============================] - 1s 41us/step - loss: 0.1595 - acc: 0.9496 - val_loss: 0.2837 - val_acc: 0.8856\n",
      "Epoch 29/40\n",
      "15000/15000 [==============================] - 1s 40us/step - loss: 0.1535 - acc: 0.9515 - val_loss: 0.2838 - val_acc: 0.8858\n",
      "Epoch 30/40\n",
      "15000/15000 [==============================] - 1s 39us/step - loss: 0.1483 - acc: 0.9537 - val_loss: 0.2845 - val_acc: 0.8855\n",
      "Epoch 31/40\n",
      "15000/15000 [==============================] - 1s 39us/step - loss: 0.1421 - acc: 0.9575 - val_loss: 0.2851 - val_acc: 0.8862\n",
      "Epoch 32/40\n",
      "15000/15000 [==============================] - 1s 39us/step - loss: 0.1372 - acc: 0.9587 - val_loss: 0.2861 - val_acc: 0.8851\n",
      "Epoch 33/40\n",
      "15000/15000 [==============================] - 1s 39us/step - loss: 0.1319 - acc: 0.9613 - val_loss: 0.2875 - val_acc: 0.8851\n",
      "Epoch 34/40\n",
      "15000/15000 [==============================] - 1s 41us/step - loss: 0.1273 - acc: 0.9633 - val_loss: 0.2891 - val_acc: 0.8861\n",
      "Epoch 35/40\n",
      "15000/15000 [==============================] - 1s 41us/step - loss: 0.1232 - acc: 0.9645 - val_loss: 0.2904 - val_acc: 0.8856\n",
      "Epoch 36/40\n",
      "15000/15000 [==============================] - 1s 41us/step - loss: 0.1182 - acc: 0.9673 - val_loss: 0.2926 - val_acc: 0.8844\n",
      "Epoch 37/40\n",
      "15000/15000 [==============================] - 1s 40us/step - loss: 0.1143 - acc: 0.9686 - val_loss: 0.2951 - val_acc: 0.8847\n",
      "Epoch 38/40\n",
      "15000/15000 [==============================] - 1s 40us/step - loss: 0.1108 - acc: 0.9697 - val_loss: 0.2966 - val_acc: 0.8838\n",
      "Epoch 39/40\n",
      "15000/15000 [==============================] - 1s 41us/step - loss: 0.1064 - acc: 0.9716 - val_loss: 0.2987 - val_acc: 0.8841\n",
      "Epoch 40/40\n",
      "15000/15000 [==============================] - 1s 39us/step - loss: 0.1027 - acc: 0.9727 - val_loss: 0.3013 - val_acc: 0.8842\n"
     ]
    }
   ],
   "source": [
    "# batch_size: 学習データをいくつにわけるのか\n",
    "\n",
    "history = model.fit(partial_x_train,\n",
    "                    partial_y_train,\n",
    "                    epochs=40,\n",
    "                    batch_size=512,\n",
    "                    validation_data=(x_val, y_val),\n",
    "                    verbose=1)"
   ]
  },
  {
   "cell_type": "code",
   "execution_count": 16,
   "metadata": {},
   "outputs": [
    {
     "name": "stdout",
     "output_type": "stream",
     "text": [
      "25000/25000 [==============================] - 1s 40us/step\n",
      "[0.3211703263711929, 0.87332]\n"
     ]
    }
   ],
   "source": [
    "results = model.evaluate(test_data, test_labels)\n",
    "\n",
    "print(results)"
   ]
  },
  {
   "cell_type": "code",
   "execution_count": 17,
   "metadata": {},
   "outputs": [
    {
     "data": {
      "text/plain": [
       "dict_keys(['acc', 'val_loss', 'loss', 'val_acc'])"
      ]
     },
     "execution_count": 17,
     "metadata": {},
     "output_type": "execute_result"
    }
   ],
   "source": [
    "history_dict = history.history\n",
    "history_dict.keys()"
   ]
  },
  {
   "cell_type": "code",
   "execution_count": 18,
   "metadata": {},
   "outputs": [
    {
     "data": {
      "image/png": "[encoded data removed]",
      "text/plain": [
       "<Figure size 432x288 with 1 Axes>"
      ]
     },
     "metadata": {
      "needs_background": "light"
     },
     "output_type": "display_data"
    }
   ],
   "source": [
    "import matplotlib.pyplot as plt\n",
    "%matplotlib inline\n",
    "\n",
    "acc = history.history['acc']\n",
    "val_acc = history.history['val_acc']\n",
    "loss = history.history['loss']\n",
    "val_loss = history.history['val_loss']\n",
    "\n",
    "epochs = range(1, len(acc) + 1)\n",
    "\n",
    "# \"bo\" is for \"blue dot\"\n",
    "plt.plot(epochs, loss, 'ro-', label='Training loss')\n",
    "# b is for \"solid blue line\"\n",
    "plt.plot(epochs, val_loss, 'b', label='Validation loss')\n",
    "plt.title('Training and validation loss')\n",
    "plt.xlabel('Epochs')\n",
    "plt.ylabel('Loss')\n",
    "plt.legend()\n",
    "\n",
    "plt.show()"
   ]
  },
  {
   "cell_type": "code",
   "execution_count": 19,
   "metadata": {},
   "outputs": [
    {
     "data": {
      "image/png": "[encoded data removed]",
      "text/plain": [
       "<Figure size 432x288 with 1 Axes>"
      ]
     },
     "metadata": {
      "needs_background": "light"
     },
     "output_type": "display_data"
    }
   ],
   "source": [
    "plt.clf()   # clear figure\n",
    "acc_values = history_dict['acc']\n",
    "val_acc_values = history_dict['val_acc']\n",
    "\n",
    "plt.plot(epochs, acc, 'ro-', label='Training acc')\n",
    "plt.plot(epochs, val_acc, 'b', label='Validation acc')\n",
    "plt.title('Training and validation accuracy')\n",
    "plt.xlabel('Epochs')\n",
    "plt.ylabel('Accuracy')\n",
    "plt.ylim(0.6, 1.0)\n",
    "plt.legend()\n",
    "\n",
    "plt.show()"
   ]
  },
  {
   "cell_type": "code",
   "execution_count": 20,
   "metadata": {},
   "outputs": [],
   "source": [
    "exit()"
   ]
  }
 ],
 "metadata": {
  "kernelspec": {
   "display_name": "Python 3",
   "language": "python",
   "name": "python3"
  },
  "language_info": {
   "codemirror_mode": {
    "name": "ipython",
    "version": 3
   },
   "file_extension": ".py",
   "mimetype": "text/x-python",
   "name": "python",
   "nbconvert_exporter": "python",
   "pygments_lexer": "ipython3",
   "version": "3.5.6"
  }
 },
 "nbformat": 4,
 "nbformat_minor": 2
}
