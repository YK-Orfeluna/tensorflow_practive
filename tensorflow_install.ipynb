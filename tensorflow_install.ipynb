{
 "cells": [
  {
   "cell_type": "markdown",
   "metadata": {},
   "source": [
    "# tensorflowを勉強する\n",
    "\n",
    "## tensorflow-gpuのインストール\n",
    "\n",
    "1. まず，[tensorflowの公式サイト](https://www.tensorflow.org/install/gpu)を確認して，環境を確認する\n",
    "    - CUDA toolkit 9.0\n",
    "    - cuCNN SDK (>=7.2)\n",
    "        - ここでは，toolkit 9.0に対応したものを利用することに\n",
    "2. 必要な環境をインストールする\n",
    "3. tensorflow-gpuをインストールする\n",
    "    - Windows 10\n",
    "    - Anaconda\n",
    "    - Python 3.5.6\n",
    "    1. `conda create -n tf python=3.5 anaconda`\n",
    "    2. `activate tf`\n",
    "    3. `pip install tensorflow-gpu`\n",
    "    \n",
    "## インストールの確認とGPUの動作確認"
   ]
  },
  {
   "cell_type": "code",
   "execution_count": 1,
   "metadata": {},
   "outputs": [
    {
     "data": {
      "text/plain": [
       "'1.12.0'"
      ]
     },
     "execution_count": 1,
     "metadata": {},
     "output_type": "execute_result"
    }
   ],
   "source": [
    "# インストールの確認\n",
    "import tensorflow as tf\n",
    "tf.__version__"
   ]
  },
  {
   "cell_type": "code",
   "execution_count": 2,
   "metadata": {},
   "outputs": [
    {
     "data": {
      "text/plain": [
       "[name: \"/device:CPU:0\"\n",
       " device_type: \"CPU\"\n",
       " memory_limit: 268435456\n",
       " locality {\n",
       " }\n",
       " incarnation: 15368651438710155950, name: \"/device:GPU:0\"\n",
       " device_type: \"GPU\"\n",
       " memory_limit: 3168845824\n",
       " locality {\n",
       "   bus_id: 1\n",
       "   links {\n",
       "   }\n",
       " }\n",
       " incarnation: 11610246765220978923\n",
       " physical_device_desc: \"device: 0, name: GeForce GTX 970, pci bus id: 0000:01:00.0, compute capability: 5.2\"]"
      ]
     },
     "execution_count": 2,
     "metadata": {},
     "output_type": "execute_result"
    }
   ],
   "source": [
    "# GPU連携の確認\n",
    "# device_type: \"GPU\"って出て，nameやmemory_limitがGPUについても表示されていたらOK\n",
    "\n",
    "from tensorflow.python.client import device_lib\n",
    "device_lib.list_local_devices()"
   ]
  },
  {
   "cell_type": "markdown",
   "metadata": {},
   "source": [
    "## 全結合層でmnistをやってみる\n",
    "\n",
    "以下，tensorflowの[tutorial](https://www.tensorflow.org/tutorials/)に書いてあるサンプルコードを若干改変して実行"
   ]
  },
  {
   "cell_type": "code",
   "execution_count": 3,
   "metadata": {},
   "outputs": [
    {
     "name": "stdout",
     "output_type": "stream",
     "text": [
      "Train on 60000 samples, validate on 10000 samples\n",
      "Epoch 1/20\n",
      "60000/60000 [==============================] - 6s 104us/step - loss: 0.2061 - acc: 0.9395 - val_loss: 0.1157 - val_acc: 0.9630\n",
      "Epoch 2/20\n",
      "60000/60000 [==============================] - 5s 91us/step - loss: 0.0818 - acc: 0.9748 - val_loss: 0.0788 - val_acc: 0.9760\n",
      "Epoch 3/20\n",
      "60000/60000 [==============================] - 6s 92us/step - loss: 0.0526 - acc: 0.9832 - val_loss: 0.0798 - val_acc: 0.9755\n",
      "Epoch 4/20\n",
      "60000/60000 [==============================] - 6s 92us/step - loss: 0.0375 - acc: 0.9886 - val_loss: 0.0702 - val_acc: 0.9794\n",
      "Epoch 5/20\n",
      "60000/60000 [==============================] - 5s 91us/step - loss: 0.0278 - acc: 0.9910 - val_loss: 0.0676 - val_acc: 0.9796\n",
      "Epoch 6/20\n",
      "60000/60000 [==============================] - 5s 91us/step - loss: 0.0217 - acc: 0.9932 - val_loss: 0.0603 - val_acc: 0.9822\n",
      "Epoch 7/20\n",
      "60000/60000 [==============================] - 5s 90us/step - loss: 0.0163 - acc: 0.9947 - val_loss: 0.0752 - val_acc: 0.9805\n",
      "Epoch 8/20\n",
      "60000/60000 [==============================] - 5s 90us/step - loss: 0.0143 - acc: 0.9951 - val_loss: 0.0755 - val_acc: 0.9800\n",
      "Epoch 9/20\n",
      "60000/60000 [==============================] - 6s 93us/step - loss: 0.0120 - acc: 0.9959 - val_loss: 0.0871 - val_acc: 0.9788\n",
      "Epoch 10/20\n",
      "60000/60000 [==============================] - 6s 95us/step - loss: 0.0111 - acc: 0.9963 - val_loss: 0.0898 - val_acc: 0.9783\n",
      "Epoch 11/20\n",
      "60000/60000 [==============================] - 6s 94us/step - loss: 0.0101 - acc: 0.9969 - val_loss: 0.0793 - val_acc: 0.9810\n",
      "Epoch 12/20\n",
      "60000/60000 [==============================] - 6s 93us/step - loss: 0.0079 - acc: 0.9974 - val_loss: 0.0801 - val_acc: 0.9824\n",
      "Epoch 13/20\n",
      "60000/60000 [==============================] - 5s 91us/step - loss: 0.0086 - acc: 0.9972 - val_loss: 0.0881 - val_acc: 0.9808\n",
      "Epoch 14/20\n",
      "60000/60000 [==============================] - 5s 89us/step - loss: 0.0081 - acc: 0.9971 - val_loss: 0.0919 - val_acc: 0.9822\n",
      "Epoch 15/20\n",
      "60000/60000 [==============================] - 6s 93us/step - loss: 0.0074 - acc: 0.9974 - val_loss: 0.0938 - val_acc: 0.9825\n",
      "Epoch 16/20\n",
      "60000/60000 [==============================] - 5s 90us/step - loss: 0.0062 - acc: 0.9980 - val_loss: 0.1143 - val_acc: 0.9803\n",
      "Epoch 17/20\n",
      "60000/60000 [==============================] - 5s 92us/step - loss: 0.0080 - acc: 0.9975 - val_loss: 0.0985 - val_acc: 0.9819\n",
      "Epoch 18/20\n",
      "60000/60000 [==============================] - 5s 90us/step - loss: 0.0060 - acc: 0.9981 - val_loss: 0.1094 - val_acc: 0.9820\n",
      "Epoch 19/20\n",
      "60000/60000 [==============================] - 5s 90us/step - loss: 0.0067 - acc: 0.9980 - val_loss: 0.1219 - val_acc: 0.9810\n",
      "Epoch 20/20\n",
      "60000/60000 [==============================] - 5s 89us/step - loss: 0.0057 - acc: 0.9982 - val_loss: 0.1052 - val_acc: 0.9817\n"
     ]
    }
   ],
   "source": [
    "import tensorflow as tf\n",
    "mnist = tf.keras.datasets.mnist\n",
    "\n",
    "# データを取得する（全部numpyの配列）\n",
    "(x_train, y_train), (x_test, y_test) = mnist.load_data()\n",
    "# 数値を0-1に正規化している\n",
    "x_train, x_test = x_train / 255.0, x_test / 255.0\n",
    "\n",
    "model = tf.keras.models.Sequential([\n",
    "    tf.keras.layers.Flatten(),\n",
    "    tf.keras.layers.Dense(512, activation=tf.nn.relu),\n",
    "    tf.keras.layers.Dropout(0, 2),\n",
    "    tf.keras.layers.Dense(10, activation=tf.nn.softmax)\n",
    "    ])\n",
    "model.compile(\n",
    "    optimizer=\"adam\",\n",
    "    loss=\"sparse_categorical_crossentropy\",\n",
    "    metrics=[\"accuracy\"]\n",
    ")\n",
    "\n",
    "# epoch=エポック数＝同じデータを何回学習させるかの回数\n",
    "# 精度がある程度上がったらとめる必要がある（やりすぎると過学習の危険性がある）\n",
    "# validation_dataにテストデータを指定すると，学習の中でテストデータに対するaccuracyとlossも計算してくれる\n",
    "history = model.fit(x_train, y_train, epochs=20, validation_data=(x_test, y_test))\n",
    "#model.evaluate(x_test, y_test)"
   ]
  },
  {
   "cell_type": "code",
   "execution_count": 4,
   "metadata": {},
   "outputs": [
    {
     "data": {
      "image/png": "[encoded data removed]",
      "text/plain": [
       "<Figure size 432x288 with 1 Axes>"
      ]
     },
     "metadata": {
      "needs_background": "light"
     },
     "output_type": "display_data"
    }
   ],
   "source": [
    "# 結果をプロットしてみる\n",
    "\n",
    "import matplotlib.pyplot as plt\n",
    "import numpy as np\n",
    "%matplotlib inline\n",
    "\n",
    "plt.figure()\n",
    "\n",
    "plt.plot(range(1, 21), history.history['acc'], marker=\".\")\n",
    "plt.plot(range(1, 21), history.history['val_acc'], marker=\".\")\n",
    "\n",
    "plt.title('model accuracy')\n",
    "plt.ylabel('accuracy')\n",
    "plt.xlabel('epoch')\n",
    "plt.legend(['train', 'test'], loc=0)\n",
    "\n",
    "plt.xticks(range(1, 21), [str(i) for i in range(1, 21)])\n",
    "plt.ylim(np.amin(np.append(history.history['acc'], history.history['val_acc'])), 1.0)\n",
    "\n",
    "plt.show()\n"
   ]
  },
  {
   "cell_type": "code",
   "execution_count": 5,
   "metadata": {},
   "outputs": [
    {
     "data": {
      "image/png": "[encoded data removed]",
      "text/plain": [
       "<Figure size 432x288 with 1 Axes>"
      ]
     },
     "metadata": {
      "needs_background": "light"
     },
     "output_type": "display_data"
    }
   ],
   "source": [
    "plt.figure()\n",
    "\n",
    "plt.plot(range(1, 21), history.history['loss'], marker=\".\")\n",
    "plt.plot(range(1, 21), history.history['val_loss'], marker=\".\")\n",
    "plt.title('model loss')\n",
    "plt.ylabel('loss')\n",
    "plt.xlabel('epoch')\n",
    "plt.legend(['train', 'test'], loc=0)\n",
    "\n",
    "plt.xticks(range(1, 21), [str(i) for i in range(1, 21)])\n",
    "plt.ylim(0.0, np.amax(np.append(history.history['loss'], history.history['val_loss'])))\n",
    "\n",
    "plt.show()"
   ]
  },
  {
   "cell_type": "markdown",
   "metadata": {},
   "source": [
    "### 結果\n",
    "\n",
    "- エポック数の増加に伴って，テストデータに対するlossが増加している＝__過学習__が起きてる\n",
    "- この場合エポック数を10弱にとどめておくのが良い感じ？"
   ]
  },
  {
   "cell_type": "code",
   "execution_count": 7,
   "metadata": {},
   "outputs": [],
   "source": [
    "exit()\n",
    "# exitしておかないとjupyterの場合GPUを使い続けてるみたい"
   ]
  },
  {
   "cell_type": "code",
   "execution_count": null,
   "metadata": {},
   "outputs": [],
   "source": []
  }
 ],
 "metadata": {
  "kernelspec": {
   "display_name": "Python 3",
   "language": "python",
   "name": "python3"
  },
  "language_info": {
   "codemirror_mode": {
    "name": "ipython",
    "version": 3
   },
   "file_extension": ".py",
   "mimetype": "text/x-python",
   "name": "python",
   "nbconvert_exporter": "python",
   "pygments_lexer": "ipython3",
   "version": "3.5.6"
  }
 },
 "nbformat": 4,
 "nbformat_minor": 2
}
